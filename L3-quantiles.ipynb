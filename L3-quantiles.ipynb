{
 "cells": [
  {
   "cell_type": "markdown",
   "metadata": {},
   "source": [
    "# <center>Lecture 3: quantiles and optimal transport</center>\n",
    "### <center>Alfred Galichon (NYU+ScPo)</center>\n",
    "## <center>14th European Summer School in Financial Mathematics</center>\n",
    "<center>© 2021 by Alfred Galichon. Support from ERC grant 'EQUIPRICE' No. 866274, and contributions from Julie Lenoir and James Nesbit  are acknowledged.</center>"
   ]
  },
  {
   "cell_type": "markdown",
   "metadata": {},
   "source": [
    "# Part I: One-dimensional optimal transport: rank, copulas, quantiles, comonotonicity \n"
   ]
  },
  {
   "cell_type": "markdown",
   "metadata": {},
   "source": [
    "### Learning Objectives\n",
    "\n",
    "* Copulas and comonotonicity\n",
    "\n",
    "* Positive Assortative Matching\n",
    "\n",
    "* The Wage Equation"
   ]
  },
  {
   "cell_type": "markdown",
   "metadata": {},
   "source": [
    "### References\n",
    "\n",
    "* [OTME], Ch. 4 and App. C\n",
    "\n",
    "* Complements:\n",
    "\n",
    "     * Becker (1973). A Theory of Marriage: Part I. *JPE*.\n",
    "\n",
    "     * Sattinger (1993). Assignment Models of the Distribution of Earnings. *JEL*.\n",
    "\n",
    "     * Gabaix and Landier (2008). Why has CEO Pay Increased So Much? *QJE*.\n",
    "\n",
    "     * Tervio (2008). The Difference That CEOs Make: An Assignment Model Approach. *AER*.\n"
   ]
  },
  {
   "cell_type": "markdown",
   "metadata": {},
   "source": [
    "## Motivation"
   ]
  },
  {
   "cell_type": "markdown",
   "metadata": {},
   "source": [
    "Today we shall study one-dimensional models of matching. The application we shall envision is to the literature on CEO compensation: talented CEOs arguably generate more output if they run large firms than if they run a small business. Hence in these models, the CEO's talent is leveraged by the firm size.\n",
    "\n",
    "The output of a match is CEO's talent multiplied by a term capturing the firm's size. This surplus function belongs to a class which leads to positive assortative matching: the optimal matching will consists of assigning the most talented CEO with the biggest firm, etc.\n",
    "\n",
    "The model we shall follows a literature in family economics, see Becker (1973), and labor economics: Sattinger (1993), Tervio (2008), Gabaix and Landier (2008). Our application will be based on Gabaix and Landier's CEO compensation data. The difference with the empirical literature on marriage is that one observes typically less relevant characteristics on CEOs, but we observe the transfers, which are typically not observed whithin the couple."
   ]
  },
  {
   "cell_type": "markdown",
   "metadata": {},
   "source": [
    "## Data\n",
    "\n",
    "For each firm, we observe the size of the firm (market cap) and the compensation.\n",
    "\n",
    "Distribution of CEO talent (to be defined later) is calibrated in their paper and we will take it as given; so will be the production function.\n",
    "\n",
    "Our exercise will consist of predicting the CEO compensation. (Actually GL do the opposite: they use the distribution of wages to calibrate the production function)."
   ]
  },
  {
   "cell_type": "code",
   "execution_count": 1,
   "metadata": {},
   "outputs": [],
   "source": [
    "import pandas as pd\n",
    "import numpy as np\n",
    "#import os"
   ]
  },
  {
   "cell_type": "code",
   "execution_count": 2,
   "metadata": {},
   "outputs": [],
   "source": [
    "gabaix_landier_path = 'https://raw.githubusercontent.com/math-econ-code/mec_optim_2021-01/master/data_mec_optim/wages_gabaix-landier/'\n",
    "data = pd.read_csv(gabaix_landier_path+ \"data_Gabaix_Landier.csv\")"
   ]
  },
  {
   "cell_type": "code",
   "execution_count": 3,
   "metadata": {},
   "outputs": [
    {
     "data": {
      "text/html": [
       "<div>\n",
       "<style scoped>\n",
       "    .dataframe tbody tr th:only-of-type {\n",
       "        vertical-align: middle;\n",
       "    }\n",
       "\n",
       "    .dataframe tbody tr th {\n",
       "        vertical-align: top;\n",
       "    }\n",
       "\n",
       "    .dataframe thead th {\n",
       "        text-align: right;\n",
       "    }\n",
       "</style>\n",
       "<table border=\"1\" class=\"dataframe\">\n",
       "  <thead>\n",
       "    <tr style=\"text-align: right;\">\n",
       "      <th></th>\n",
       "      <th>yeara</th>\n",
       "      <th>mktcap</th>\n",
       "      <th>nFIRM</th>\n",
       "      <th>comp</th>\n",
       "      <th>nCEO</th>\n",
       "    </tr>\n",
       "  </thead>\n",
       "  <tbody>\n",
       "    <tr>\n",
       "      <th>0</th>\n",
       "      <td>2000</td>\n",
       "      <td>17522.963</td>\n",
       "      <td>333.0</td>\n",
       "      <td>22024.6190</td>\n",
       "      <td>74.0</td>\n",
       "    </tr>\n",
       "    <tr>\n",
       "      <th>1</th>\n",
       "      <td>1991</td>\n",
       "      <td>19737.494</td>\n",
       "      <td>129.0</td>\n",
       "      <td>NaN</td>\n",
       "      <td>NaN</td>\n",
       "    </tr>\n",
       "    <tr>\n",
       "      <th>2</th>\n",
       "      <td>1992</td>\n",
       "      <td>23442.229</td>\n",
       "      <td>107.0</td>\n",
       "      <td>NaN</td>\n",
       "      <td>NaN</td>\n",
       "    </tr>\n",
       "    <tr>\n",
       "      <th>3</th>\n",
       "      <td>1993</td>\n",
       "      <td>23647.432</td>\n",
       "      <td>118.0</td>\n",
       "      <td>NaN</td>\n",
       "      <td>NaN</td>\n",
       "    </tr>\n",
       "    <tr>\n",
       "      <th>4</th>\n",
       "      <td>1994</td>\n",
       "      <td>22099.512</td>\n",
       "      <td>126.0</td>\n",
       "      <td>5147.5156</td>\n",
       "      <td>175.0</td>\n",
       "    </tr>\n",
       "  </tbody>\n",
       "</table>\n",
       "</div>"
      ],
      "text/plain": [
       "   yeara     mktcap  nFIRM        comp   nCEO\n",
       "0   2000  17522.963  333.0  22024.6190   74.0\n",
       "1   1991  19737.494  129.0         NaN    NaN\n",
       "2   1992  23442.229  107.0         NaN    NaN\n",
       "3   1993  23647.432  118.0         NaN    NaN\n",
       "4   1994  22099.512  126.0   5147.5156  175.0"
      ]
     },
     "execution_count": 3,
     "metadata": {},
     "output_type": "execute_result"
    }
   ],
   "source": [
    "data.head()"
   ]
  },
  {
   "cell_type": "markdown",
   "metadata": {},
   "source": [
    "## Positive assortative matching\n",
    "\n",
    "Assume $\\mathcal{X}=\\mathcal{Y}=\\mathbb{R}$. This implies that both workers and firms are characterized by scalar characteristics $x$ and $y$. Restrictive, but most of the applied literature in Economics to this day has \n",
    "focused on this case, which already generates interesting economic insights.\n",
    "\n",
    "Assume that there is the same number of workers and firms, and this number is normalized to one. Let $P$ be the probability distribution of the workers types $x$, and $Q$ the probability distribution of the firms types $y$.\n",
    "\n",
    "E.g. the literature on CEO compensation studies the matching problem of firms and managers: each manager has\\ a measure of talent $x\\in\\mathbb{R}_{+}$ (extra return generated), and each firm has market capitalization $y\\in\\mathbb{R}_{+}$. Then, the economic value generated by a manager of talent $x$ running a firm of size $y$ is $\\Phi\\left(  x,y\\right)  =xy$. Assume manager of talent $x$ is assigned to firm of size $y=T\\left(x\\right)  $. The constraint on the assignment map $T$ is that $T\\#P=Q$, which means that each firm is run by a manager and each manager runs a firm. Then the total value created is\n",
    "\n",
    "\\begin{align*}\n",
    "\\mathbb{E}_{P}\\left[  \\Phi\\left(  X,T\\left(  X\\right)  \\right)  \\right]\n",
    "=\\mathbb{E}\\left[  XT\\left(  X\\right)  \\right]  .\n",
    "\\end{align*}\n",
    "\n",
    "Under a natural assuption on $\\Phi$, called *supermodularity*, we will see that the optimal coupling is such that $Y=T\\left(  X\\right)  $, where $T$ is nondecreasing. $T$ will be given an explicit characterization."
   ]
  },
  {
   "cell_type": "markdown",
   "metadata": {},
   "source": [
    "## Copulas\n",
    "\n",
    "Recall that given a probability distribution $P$ on the real line, one can define the \\emph{quantile} of that distribution, denoted $F_{P}^{-1}$, which is a map from $\\left[  0,1\\right]  $ to $R$, nondecreasing and continuous from the right, and such that if $U\\sim\\mathcal{U}:=\\mathcal{U} \\left(\\left[0,1\\right]\\right)$, then\n",
    "\n",
    "<a name=\"quantileRep\"></a>\n",
    "\\begin{align*}\n",
    "F_{P}^{-1}\\left(  U\\right)  \\sim P.\n",
    "\\end{align*}\n",
    "\n",
    "$F_{P}^{-1}$ is the generalized inverse of the c.d.f. of $P$, $F_{P}$, the proper inverse when $P$ has a positive density, in which case $U=F_{P}\\left(X\\right)  $. Note also that if $X\\sim P$, then $F_{P}\\left(  X\\right)  $ has a uniform distribution if and only if $P$ has no mass point.\n",
    "\n",
    "[Quantile representation](#quantileRep) extends to the case of bivariate distributions: for $\\pi\\in\\mathcal{M}\\left(  P,Q\\right)  $, there exists a pair $\\left(  U,V\\right)  $ of uniform random variables such that\n",
    "\n",
    "<a name=\"Bi-quantileRep\"></a>\n",
    "\\begin{align*}\n",
    "\\left(  F_{P}^{-1}\\left(  U\\right)  ,F_{Q}^{-1}\\left(  V\\right)  \\right)\n",
    "\\sim\\pi,\n",
    "\\end{align*}\n",
    "\n",
    "and the c.d.f. associated with the distribution of $\\left(  U,V\\right)  $ is called the *copula* associated with distribution $\\pi$."
   ]
  },
  {
   "cell_type": "markdown",
   "metadata": {},
   "source": [
    "## Comonotonicity\n",
    "\n",
    "A pair of random variables $\\left(  X,Y\\right)$ is *comonotone* if there is $U\\sim\\mathcal{U}$ such that $X=F_{P}^{-1}\\left(  U\\right)$ and $Y=F_{Q}^{-1}\\left(  U\\right)  $. Equivalently, $X$ and $Y$ are said to exhibit *Positive Assortative Matching (PAM)*.\n",
    "\n",
    "The copula associated with a pair of comonotone random variables is the c.d.f. associated with $\\left(  U,U\\right)  $, which is $F\\left(  u,v\\right) =\\min\\left(  u,v\\right)  $. This copula is called the *upper Fréchet-Hoeffding copula*.\n",
    "\n",
    "Note that when the cdf of $X$ is continuous, there is a much simpler equivalent statement of comonotonicity:\n",
    "\n",
    "---\n",
    "**Lemma**\n",
    "If the distribution of $X$ has no mass points, then $X$ and $Y$ are comonotone if and only if there exists a nondecreasing map $T$ such that $Y=T\\left(  X\\right)  $. Moreover, one can choose $T\\left(x\\right)  =F_{Q}^{-1}\\left(  F_{P}\\left(  x\\right)  \\right).$\n",
    "\n",
    "---\n",
    "\n",
    "---\n",
    "**Proof**\n",
    "\n",
    "Consider $U\\sim\\mathcal{U}$ such that $X=F_{P}^{-1}\\left(  U\\right)  $ and $Y=F_{Q}^{-1}\\left(  U\\right)  $. If the distribution of $X$ has no mass point, then $U=F_{P}\\left(  X\\right)  $. Hence, $Y=F_{Q}^{-1}\\left(F_{P}\\left(  X\\right)  \\right)  $.\n",
    "\n",
    "---"
   ]
  },
  {
   "cell_type": "markdown",
   "metadata": {},
   "source": [
    "### Supermodular surplus\n",
    "\n",
    "Assume $\\Phi$ is \\emph{supermodular}, that is, for every scalars $x$, $x^{\\prime}$, $y$ and $y^{\\prime}$,\n",
    "\n",
    "<a name=\"supermodularPhi\"></a>\n",
    "\\begin{align*}\n",
    "\\Phi\\left(  x\\vee x^{\\prime},y\\vee y^{\\prime}\\right)  +\\Phi\\left(  x\\wedge\n",
    "x^{\\prime},y\\wedge y^{\\prime}\\right)  \\geq\\Phi\\left(  x,y\\right)  +\\Phi\\left(\n",
    "x^{\\prime},y^{\\prime}\\right)  , \\label{supermodularPhi}%\n",
    "\\end{align*}\n",
    "\n",
    "where $x\\vee x^{\\prime}$ and $x\\wedge x^{\\prime}$ denote respectively the maximum and the minimum between scalars $x$ and $x^{\\prime}$. When $\\Phi$ is twice continuously differentiable (which we will assume from now on), this is equivalent to\n",
    "\n",
    "\\begin{align*}\n",
    "\\frac{\\partial^{2}\\Phi\\left(  x,y\\right)  }{\\partial x\\partial y}\\geq0.\n",
    "\\label{SupermodDiff}%\n",
    "\\end{align*}\n",
    "\n",
    "Assume that there are two types of workers $\\mathcal{X=}\\left\\{\\underline{x},\\overline{x}\\right\\}  $ and firms $\\mathcal{Y=}\\left\\{  \\underline{y},\\overline{y}\\right\\}  $. An equivalent restatement of the [supermodular condition](#supermodularPhi) is then\n",
    "\n",
    "<a name=\"PAMequiv\"></a>\n",
    "\\begin{align*}\n",
    "\\overline{x}\\geq \\underline{x} \\text{ and }\\overline{y}\\geq \\underline{y} \\text{ implies }\\Phi\\left(\n",
    "\\overline{x},\\overline{y}\\right)  +\\Phi\\left(  \\underline{x},\\underline{y}\\right)\n",
    "\\geq\\Phi\\left(  \\overline{x},\\underline{y}\\right)  +\\Phi\\left(  \\underline{x},\\overline\n",
    "{y}\\right)  \\label{PAMequiv}%\n",
    "\\end{align*}\n",
    "\n",
    "which asserts that the total output created is higher if the high types match together and the low types match together (assortative matching) rather than if mixed high/low pairs are formed.\n",
    "\n",
    "The following examples of surplus functions are supermodular:\n",
    "\n",
    "1. Cobb-Douglas function: $\\Phi\\left(  x,y\\right)  =x^{a}y^{b}$ ($x,y\\geq 0$), with $a,b\\geq 0$,\n",
    "\n",
    "2. General multiplicative form: $\\Phi\\left(  x,y\\right)  =\\zeta\\left(x\\right)  \\xi\\left(  y\\right)  $ with $\\zeta$ and $\\xi$ nondecreasing,\n",
    "\n",
    "3. Leontieff: $\\Phi\\left(  x,y\\right)  =\\min\\left(  x,y\\right)$,\n",
    "\n",
    "4. C.E.S. function: $\\Phi\\left(  x,y\\right)  =\\left(  x^{-\\rho}+y^{-\\rho}\\right)  ^{-1/\\rho}$, $\\rho\\geq 0$,\n",
    "\n",
    "5. $\\Phi\\left(  x,y\\right)  =\\phi\\left(  x-y\\right)  $ where $\\phi$ is concave; in particular, $\\Phi\\left(  x,y\\right)  =-\\left\\vert x-y\\right\\vert ^{p}$, $p\\geq1$ or $\\Phi\\left(  x,y\\right)  =-\\left(  x-y-k\\right)  ^{+}$,\n",
    "\n",
    "6. $\\Phi\\left(  x,y\\right)  =\\phi\\left(  x+y\\right)  $, where $\\phi$ convex."
   ]
  },
  {
   "cell_type": "markdown",
   "metadata": {},
   "source": [
    "## Rearrangement theorem\n",
    "\n",
    "---\n",
    "**Theorem**\n",
    "<a name=\"thm:MKsupermod\"></a>\n",
    "1. Assume that $\\Phi$ is supermodular. Then the primal of the Monge-Kantorovich problem\n",
    "\n",
    "    <a name=\"mkpb1d\"></a>\n",
    "    \\begin{align*}\n",
    "    \\sup_{\\pi\\in\\mathcal{M}\\left(  P,Q\\right)  }\\mathbb{E}_{\\pi}\\left[\n",
    "    \\Phi\\left(  X,Y\\right)  \\right]\n",
    "    \\end{align*}\n",
    "\n",
    "    has a comonotone solution.\n",
    "\n",
    "2. Conversely, if [MK primal](#mkpb1d) has a comonotone solution for any choice of probability distributions $P$ and $Q$ on the real line, then $\\Phi$ is supermodular.\n",
    "\n",
    "3. If, in addition, $P$ has no mass points, then there is an optimal assignment which is is pure and satisfies $Y=T\\left(  X\\right)$ where\n",
    "\n",
    "    <a name=\"mongeMap1d\"></a>\n",
    "    \\begin{align*}\n",
    "    T\\left(  x\\right)  =F_{Q}^{-1}\\circ F_{P}\\left(  x\\right).\n",
    "    \\end{align*}\n",
    "\n",
    "---\n",
    "The proof of part 1. is based on the following lemma.\n",
    "\n",
    "---\n",
    "<a name=\"lem:comonotone\"></a>\n",
    "**Lemma**\n",
    "\n",
    "Let $Z_{1}$ and $Z_{2}$ be two Bernoulli random variables of respective success probability $p_{1}$ and $p_{2}$. Then $\\mathbb{E}\\left[  Z_{1}Z_{2}\\right]  \\leq\\min\\left(  p_{1},p_{2}\\right)$.\n",
    "\n",
    "---\n",
    "---\n",
    "**Proof**\n",
    "\n",
    "As $Z_{2}\\leq1$, $\\mathbb{E}\\left[  Z_{1}Z_{2}\\right]  \\leq\\mathbb{E}\\left[Z_{1}\\right]  =p_{1}$. Similarly $\\mathbb{E}\\left[  Z_{1}Z_{2}\\right]\\leq\\mathbb{E}\\left[  Z_{2}\\right]  =p_{2}$. Thus, $\\mathbb{E}\\left[Z_{1}Z_{2}\\right]  \\leq\\min\\left(  p_{1},p_{2}\\right)$.\n",
    "\n",
    "---\n",
    "\n",
    "We are now ready to sketch the proof of the [Rearrangement Theorem](#thm:MKsupermod).\n",
    "\n",
    "---\n",
    "**Proof**\n",
    "\n",
    "1. Take $U\\sim\\mathcal{U}$,and $X=F_{P}^{-1}\\left(  U\\right)  $ and $Y=F_{Q}^{-1}\\left(  U\\right)$. By the [quantile representation](#quantileRep), $X\\sim P$ and $Y\\sim Q$ and $\\left(  X,Y\\right)$ is comonotone by definition. The proof is in three steps.\n",
    "\n",
    "    **Step 1.** For $a,b\\in\\mathbb{R}$, consider surplus function $\\phi_{ab}\\left(x,y\\right)  :=1\\left\\{  x\\geq a\\right\\}  1\\left\\{  y\\geq b\\right\\}$, and let $Z_{1}=1\\left\\{  X\\geq a\\right\\}  $ and $Z_{2}=1\\left\\{  Y\\geq b\\right\\}$. $Z_{1}$ and $Z_{2}$ are two Bernoulli random variables of respective success probability $p_{1}=1-F_{P}\\left(  a\\right)  $ and $p_{2}=1-F_{Q}\\left(b\\right)  $, thus $\\mathbb{E}\\left[  Z_{1}Z_{2}\\right]  \\leq\\min\\left(p_{1},p_{2}\\right)  $, but a straightforward calculation shows that the inequality actually holds as an equality. Hence $\\left(  X,Y\\right)$, which is comonotone, is optimal for each surplus function $\\phi_{ab}$.\n",
    "\n",
    "    **Step 2.** Assume $\\mathcal{X}=\\left[\\underline{x},\\overline{x}\\right]$ and $\\mathcal{Y} = \\left[ \\underline{y}, \\overline{y}\\right]$ are compact intervals. Then\n",
    "\n",
    "    \\begin{align*}\n",
    "F\\left(  x,y\\right)  =\\frac{\\Phi\\left(  x,y\\right)  -\\Phi\\left(  \\underline{x},y\\right)  -\\Phi\\left(  x,\\underline{y}\\right)  +\\Phi\\left(  \\underline{x},\\underline{y}\\right)  }{\\Phi\\left(  \\overline{x},\\overline{y}\\right)  -\\Phi\\left(\\underline{x},\\overline{y}\\right)  -\\Phi\\left(  \\overline{x},\\underline{y}\\right)+\\Phi\\left(  \\underline{x},\\underline{y}\\right)  }\n",
    "    \\end{align*}\n",
    "\n",
    "    is a c.d.f. associated to a probability measure $\\zeta$, and hence \n",
    "\n",
    "    \\begin{align*}\n",
    "F\\left(x,y\\right) = \\int\\phi_{ab}\\left(  x,y\\right)  d\\zeta\\left(  a,b\\right)$.\n",
    "    \\end{align*}\n",
    "    \n",
    "    As a result, if $\\pi\\in\\mathcal{M}\\left(  p,q\\right)$ is the distribution of $\\left(  X,Y\\right)  $ where $X$ and $Y$ are comonotone, then\n",
    "    \n",
    "    \\begin{align*}\n",
    "\\int F\\left(  x,y\\right)  d\\pi\\left(  x,y\\right)  \\geq\\int F\\left(\n",
    "x,y\\right)  d\\tilde{\\pi}\\left(  x,y\\right)\n",
    "    \\end{align*}\n",
    "    \n",
    "    for every $\\tilde{\\pi}\\in\\mathcal{M}\\left(  p,q\\right)  $. But as $F$ is of the form $F\\left(  x,y\\right)  =K\\Phi\\left(  x,y\\right)  +f\\left(  x\\right) +g\\left(  y\\right)  +c$ with $K>0$, and because $\\int\\left\\{  f\\left(x\\right)  +g\\left(  y\\right)  +c\\right\\}  d\\pi\\left(  x,y\\right)=\\int\\left\\{  f\\left(  x\\right)  +g\\left(  y\\right)  +c\\right\\}  d\\tilde{\\pi}\\left(  x,y\\right)  $ for every $\\tilde{\\pi}\\in\\mathcal{M}\\left(  p,q\\right) $, it results that\n",
    "    \n",
    "    \\begin{align*}\n",
    "\\int\\Phi\\left(  x,y\\right)  d\\pi\\left(  x,y\\right)  \\geq\\int\\Phi\\left(x,y\\right)  d\\tilde{\\pi}\\left(  x,y\\right)  ~\\forall\\tilde{\\pi}\\in \\mathcal{M}\\left(  p,q\\right)\n",
    "    \\end{align*}\n",
    "    which completes step 2.\n",
    "    \n",
    "    **Step 3.** When $\\mathcal{X}$ and $\\mathcal{Y}$ are the real line, the result still holds by approximation.\n",
    "\n",
    "2. The converse follows by taking for $P$ the discrete probability with two mass points \\b{x} and $\\overline{x}$ with probability 1/2 each, and $Q$ the discrete probability with two mass points \\b{y} and $\\overline{y}$ also each with probability 1/2. Then if [MK primal](#mkpb1d) has a solution such that $F_{P}^{-1}\\left(  U\\right)  $ and $Y=F_{Q}^{-1}\\left(  U\\right)  $, for $U\\sim\\mathcal{U}\\left(  \\left[  0,1\\right]  \\right)  $, it follows that [condition](#PAMequiv) holds.\n",
    "\n",
    "3. follows from (i) and [Lemma](#lem:comonotone).\n",
    "\n",
    "---\n"
   ]
  },
  {
   "cell_type": "markdown",
   "metadata": {},
   "source": [
    "Note that the assumptions made in the [Rearrangement Theorem](#thm:MKsupermod) do not guarantee that all the optimal assignments are comonotone. Indeed, the trivial example where $\\Phi\\left(  x,y\\right)  =0$ for every $x$ and $y$ provides an example of supermodular surplus function, for which any assignment is optimal. For this reason, we provide a strengthening of the previous result, which ensures uniqueness. We will assume $\\Phi$ is strictly supermodular, that is if both $\\overline{x}>\\underline{x}$ and $\\overline{y}>\\underline{y}$ hold, then $\\Phi\\left(\\overline{x},\\overline{y}\\right)  +\\Phi\\left(\\underline{x},\\underline{y}\\right)  >\\Phi\\left(\\overline{x},\\underline{y}\\right)  +\\Phi\\left( \\underline{x},\\overline{y}\\right)$.\n",
    "\n",
    "---\n",
    "**Theorem**\n",
    "\n",
    "Assume that $\\Phi$ is strictly supermodular, and $P$ has no mass point. Then the primal [Monge-Kantorovich problem](#mkpb1d) has a unique optimal assignment, and this assignment is characterized by $Y=T\\left(  X\\right)  $ where $T$ is given by [this](#mongeMap1d).\n",
    "\n",
    "---\n"
   ]
  },
  {
   "cell_type": "markdown",
   "metadata": {},
   "source": [
    "### The wage equation\n",
    "\n",
    "Assume $\\left(u,v\\right)$ is a solution to the dual of the Monge-Kantorovich problem\n",
    "\n",
    "<a name=\"mkdual1d\"></a>\n",
    "\\begin{align}\n",
    "\\inf \\,&  \\mathbb{E}_{P}\\left[  u\\left(  X\\right)  \\right]  +\\mathbb{E}_{Q}\\left[  v\\left(  Y\\right)  \\right] \\\\\n",
    "s.t.~  &  u\\left(  x\\right)  +v\\left(  y\\right)  \\geq\\Phi\\left(  x,y\\right)\n",
    "\\end{align}\n",
    "\n",
    "Then $v\\left(y\\right)$ is interpreted as the value of the problem of a firm of type $y$, choosing the optimal worker $x$. Then the firm's program is\n",
    "\n",
    "\\begin{align*}\n",
    "v\\left(  y\\right)  =\\max_{x}\\left\\{  \\Phi\\left(  x,y\\right)  -u\\left(\n",
    "x\\right)  \\right\\}\n",
    "\\end{align*}\n",
    "\n",
    "thus by first order conditions, one is led to the *wage equation*\n",
    "\n",
    "<a name=\"WageEq\"></a>\n",
    "\\begin{align*}\n",
    "u^{\\prime}\\left(  x\\right)  =\\frac{\\partial\\Phi}{\\partial x}\\left(  x,T\\left(\n",
    "x\\right)  \\right)  , \\label{WageEq}%\n",
    "\\end{align*}\n",
    "where $T$ is given by [this](#mongeMap1d)."
   ]
  },
  {
   "cell_type": "markdown",
   "metadata": {},
   "source": [
    "---\n",
    "**Theorem**\n",
    "\n",
    "1. Assume $\\Phi$ is supermodular and continuously differentiable with respect to its first variable. Assume $P$ has no mass point. Then the [dual Monge-Kantorovich problem](#mkdual1d) has a solution $\\left(u,v\\right)$. Further, $u$ solves the [wage equation](#WageEq). Hence, $u$ is determined up to a constant $c$ by\n",
    "\n",
    "    \\begin{align*}\n",
    "    u\\left(  x\\right)  =c+\\int_{x_{0}}^{x}\\frac{\\partial\\Phi}{\\partial x}\\left(t,T\\left(  t\\right)  \\right)  dt. \n",
    "    \\end{align*}\n",
    "\n",
    "2. Assume further that $Q$ has no mass point, and that $\\Phi$ is also continuously differentiable with respect to its second variable. Then $v$ is given by\n",
    "\n",
    "    \\begin{align*}\n",
    "    v\\left(  y\\right)  =c^{\\prime}+\\int_{T\\left(  x_{0}\\right)  }^{y}\\frac{\\partial\\Phi}{\\partial y}\\left(  T^{-1}\\left(  z\\right)  ,z\\right)  dz,\n",
    "    \\end{align*}\n",
    "\n",
    "    where $c$ and $c^{\\prime}$ are related by $c+c^{\\prime}=\\Phi\\left(x_{0},T\\left(  x_{0}\\right)  \\right).$\n",
    "\n",
    "---"
   ]
  },
  {
   "cell_type": "markdown",
   "metadata": {},
   "source": [
    "### Interpretation: imperfect competition and rents\n",
    "\n",
    "It is important to distinguish between $\\partial\\Phi\\left(  x,T\\left(x\\right)  \\right)  /\\partial x$, which is the partial derivative of $\\Phi\\left(  x,y\\right)  $ applied at $\\left(  x,y\\right)  =\\left(  x,T\\left(x\\right)  \\right)  $, and $d\\Phi\\left(  x,T\\left(  x\\right)  \\right)  /dx$,which is the total derivative of $\\Phi\\left(  x,T\\left(  x\\right)  \\right)$ with respect to $x$. One has\n",
    "\n",
    "\\begin{align*}\n",
    "\\frac{d\\Phi\\left(  x,T\\left(  x\\right)  \\right)  }{dx}=\\frac{\\partial \\Phi\\left(  x,T\\left(  x\\right)  \\right)  }{\\partial x}+\\frac{\\partial \\Phi\\left(  x,T\\left(  x\\right)  \\right)  }{\\partial y}T^{\\prime}\\left(x\\right)\n",
    "\\end{align*}\n",
    "\n",
    "This decomposition has an interesting interpretation in terms of differential rent. The total derivative $d\\Phi\\left(  x,T\\left(  x\\right) \\right)  /dx$ is the marginal increase in value between a firm run by a manager of talent $x$ and a firm run by a manager of talent $x+dx$. This differential value is split between the manager's differential rent ($\\partial\\Phi\\left(  x,T\\left(  x\\right)  \\right)  /\\partial x=u^{\\prime}\\left(  x\\right)  $) and the firm's differential rent ( $\\left(  \\partial \\Phi\\left(  x,T\\left(  x\\right)  \\right)  /\\partial y\\right)  T^{\\prime }\\left(  x\\right)  =dv\\left(  T\\left(  x\\right)  \\right)  /dx$).\n",
    "\n",
    "This discussion highlights the nature of the assignment model, which is a model of imperfect competition. In this model, managers compete against each other, and likewise on the other side of the market. Managers are imperfect substitutes for each other. This imperfect competition is the source of the rent, as made apparent by [wage equation formula](#WageEq)."
   ]
  },
  {
   "cell_type": "markdown",
   "metadata": {},
   "source": [
    "## Application"
   ]
  },
  {
   "cell_type": "markdown",
   "metadata": {},
   "source": [
    "Gabaix and Landier (2008) assume that\n",
    "\n",
    "\\begin{align*}\n",
    "\\Phi\\left(  x,y\\right)  =Cxy^{\\gamma}\n",
    "\\end{align*}\n",
    "\n",
    "where $C$ and $\\gamma$ are parameters.\n",
    "\n",
    "If $X$ is the talent of the CEO, then the distribution of $X$ can be parameterized through its quantile by\n",
    "\n",
    "\\begin{align*}\n",
    "Q_{X}\\left(  t\\right)  =X^{\\max}-\\frac{B}{\\beta N}\\left(  N\\left(  1-t\\right) \\right)  ^{\\beta}\n",
    "\\end{align*}\n",
    "\n",
    "(such a distribution is consistent with extreme value theory). $N$ is the number of firms and $\\beta$ is a parameter.\n",
    "\n",
    "If $Y$ is the size of the firm, then its distribution is assumed to be Pareto with distribution $1/\\alpha$, i.e.\n",
    "\n",
    "\\begin{align*}\n",
    "Q_{Y}\\left(  t\\right)  =A\\left(  N\\left(  1-t\\right)  \\right)  ^{-\\alpha}%\n",
    "\\end{align*}\n",
    "\n",
    "(they find that $\\alpha=1$, i.e. Zipf's law, fits the data quite well).\n",
    "\n",
    "The wage of CEO indexed by $t\\in\\left[  0,1\\right]  $ is $w\\left(t\\right)  $; firm $y=Q_{Y}\\left(  t\\right)  $'s problem is\n",
    "\n",
    "\\begin{align*}\n",
    "\\max_{t\\in\\left[  0,1\\right]  }\\left\\{  CQ_{X}\\left(  t\\right)  y^{\\gamma}-w\\left(  t\\right)  \\right\\}  =\\max_{t\\in\\left[  0,1\\right]  }\\left\\{-C\\frac{B}{\\beta N}\\left(  N\\left(  1-t\\right)  \\right)  ^{\\beta}y^{\\gamma}-w\\left(  t\\right)  \\right\\}\n",
    "\\end{align*}\n",
    "\n",
    "and by FOC:\n",
    "\n",
    "\\begin{align*}\n",
    "w^{\\prime}\\left(  t\\right)   &  =BCy^{\\gamma}\\left(  N\\left(  1-t\\right)\n",
    "\\right)  ^{\\beta-1}\\\\\n",
    "&  =A^{\\gamma}BC\\left(  N\\left(  1-t\\right)  \\right)  ^{-\\alpha\\gamma+\\beta-1}%\n",
    "\\end{align*}\n",
    "\n",
    "where it is assumed $\\alpha\\gamma>\\beta$. When $N$ is large, this yields\n",
    "\n",
    "\\begin{align*}\n",
    "w\\left(  t\\right)  \\approx\\frac{A^{\\gamma}BC}{\\alpha\\gamma-\\beta}\\left(N\\left(  1-t\\right)  \\right)  ^{-\\alpha\\gamma+\\beta}\n",
    "\\end{align*}\n",
    "\n",
    "\"Superstar\" effect (Rosen, 1981): if $\\beta>0$, then the wages are unbounded, even though talent is bounded -- talent is very valuable at the top end of the distribution.\n",
    "\n",
    "We shall use Gabaix-Landier's calibrated values\n",
    "\\begin{align*}\n",
    "\\beta\\simeq2/3,\\gamma\\simeq1,BC=2.8\\ast10^{-6}\n",
    "\\end{align*}"
   ]
  },
  {
   "cell_type": "code",
   "execution_count": 4,
   "metadata": {},
   "outputs": [],
   "source": [
    "β = 2/3\n",
    "B = 1\n",
    "C = 2.8e-06\n",
    "α = γ = 1\n",
    "X_max = 0"
   ]
  },
  {
   "cell_type": "markdown",
   "metadata": {},
   "source": [
    "We will focus on data from year 2003."
   ]
  },
  {
   "cell_type": "code",
   "execution_count": 5,
   "metadata": {},
   "outputs": [],
   "source": [
    "year = 2003\n",
    "data2003 = data[data['yeara'] == 2003]"
   ]
  },
  {
   "cell_type": "markdown",
   "metadata": {},
   "source": [
    "We will normalize compensation to insure compensation and mktcap are in the same order of magnitude. We need to get rid of the `NA`'s in the data (separately for compensation and market cap) and sort in decreasing order."
   ]
  },
  {
   "cell_type": "code",
   "execution_count": 6,
   "metadata": {},
   "outputs": [],
   "source": [
    "comp = data2003['comp']/1000  # insures same order of magnitude\n",
    "comp = comp[comp.notnull()].sort_values(ascending=False)\n",
    "\n",
    "mktcap = data2003['mktcap']\n",
    "mktcap = mktcap[mktcap.notnull()].sort_values(ascending=False)"
   ]
  },
  {
   "cell_type": "code",
   "execution_count": 7,
   "metadata": {},
   "outputs": [],
   "source": [
    "N=mktcap.size\n",
    "n= np.arange(1,N + 1)"
   ]
  },
  {
   "cell_type": "markdown",
   "metadata": {},
   "source": [
    "So in order compute the wage function, it remains to find the value of $A$. This will simply be a regression of $\\log(S)$ on $n$. Regress firm rank against mktcap:"
   ]
  },
  {
   "cell_type": "code",
   "execution_count": 8,
   "metadata": {},
   "outputs": [
    {
     "data": {
      "text/html": [
       "<table class=\"simpletable\">\n",
       "<caption>OLS Regression Results</caption>\n",
       "<tr>\n",
       "  <th>Dep. Variable:</th>         <td>mktcap</td>      <th>  R-squared:         </th> <td>   0.986</td> \n",
       "</tr>\n",
       "<tr>\n",
       "  <th>Model:</th>                   <td>OLS</td>       <th>  Adj. R-squared:    </th> <td>   0.986</td> \n",
       "</tr>\n",
       "<tr>\n",
       "  <th>Method:</th>             <td>Least Squares</td>  <th>  F-statistic:       </th> <td>3.574e+04</td>\n",
       "</tr>\n",
       "<tr>\n",
       "  <th>Date:</th>             <td>Fri, 03 Sep 2021</td> <th>  Prob (F-statistic):</th>  <td>  0.00</td>  \n",
       "</tr>\n",
       "<tr>\n",
       "  <th>Time:</th>                 <td>11:09:40</td>     <th>  Log-Likelihood:    </th> <td>  380.55</td> \n",
       "</tr>\n",
       "<tr>\n",
       "  <th>No. Observations:</th>      <td>   500</td>      <th>  AIC:               </th> <td>  -757.1</td> \n",
       "</tr>\n",
       "<tr>\n",
       "  <th>Df Residuals:</th>          <td>   498</td>      <th>  BIC:               </th> <td>  -748.7</td> \n",
       "</tr>\n",
       "<tr>\n",
       "  <th>Df Model:</th>              <td>     1</td>      <th>                     </th>     <td> </td>    \n",
       "</tr>\n",
       "<tr>\n",
       "  <th>Covariance Type:</th>      <td>nonrobust</td>    <th>                     </th>     <td> </td>    \n",
       "</tr>\n",
       "</table>\n",
       "<table class=\"simpletable\">\n",
       "<tr>\n",
       "    <td></td>       <th>coef</th>     <th>std err</th>      <th>t</th>      <th>P>|t|</th>  <th>[0.025</th>    <th>0.975]</th>  \n",
       "</tr>\n",
       "<tr>\n",
       "  <th>const</th> <td>   15.5140</td> <td>    0.028</td> <td>  562.058</td> <td> 0.000</td> <td>   15.460</td> <td>   15.568</td>\n",
       "</tr>\n",
       "<tr>\n",
       "  <th>x1</th>    <td>   -0.9822</td> <td>    0.005</td> <td> -189.048</td> <td> 0.000</td> <td>   -0.992</td> <td>   -0.972</td>\n",
       "</tr>\n",
       "</table>\n",
       "<table class=\"simpletable\">\n",
       "<tr>\n",
       "  <th>Omnibus:</th>       <td>582.902</td> <th>  Durbin-Watson:     </th> <td>   0.098</td> \n",
       "</tr>\n",
       "<tr>\n",
       "  <th>Prob(Omnibus):</th> <td> 0.000</td>  <th>  Jarque-Bera (JB):  </th> <td>67515.074</td>\n",
       "</tr>\n",
       "<tr>\n",
       "  <th>Skew:</th>          <td>-5.276</td>  <th>  Prob(JB):          </th> <td>    0.00</td> \n",
       "</tr>\n",
       "<tr>\n",
       "  <th>Kurtosis:</th>      <td>58.941</td>  <th>  Cond. No.          </th> <td>    29.9</td> \n",
       "</tr>\n",
       "</table><br/><br/>Notes:<br/>[1] Standard Errors assume that the covariance matrix of the errors is correctly specified."
      ],
      "text/plain": [
       "<class 'statsmodels.iolib.summary.Summary'>\n",
       "\"\"\"\n",
       "                            OLS Regression Results                            \n",
       "==============================================================================\n",
       "Dep. Variable:                 mktcap   R-squared:                       0.986\n",
       "Model:                            OLS   Adj. R-squared:                  0.986\n",
       "Method:                 Least Squares   F-statistic:                 3.574e+04\n",
       "Date:                Fri, 03 Sep 2021   Prob (F-statistic):               0.00\n",
       "Time:                        11:09:40   Log-Likelihood:                 380.55\n",
       "No. Observations:                 500   AIC:                            -757.1\n",
       "Df Residuals:                     498   BIC:                            -748.7\n",
       "Df Model:                           1                                         \n",
       "Covariance Type:            nonrobust                                         \n",
       "==============================================================================\n",
       "                 coef    std err          t      P>|t|      [0.025      0.975]\n",
       "------------------------------------------------------------------------------\n",
       "const         15.5140      0.028    562.058      0.000      15.460      15.568\n",
       "x1            -0.9822      0.005   -189.048      0.000      -0.992      -0.972\n",
       "==============================================================================\n",
       "Omnibus:                      582.902   Durbin-Watson:                   0.098\n",
       "Prob(Omnibus):                  0.000   Jarque-Bera (JB):            67515.074\n",
       "Skew:                          -5.276   Prob(JB):                         0.00\n",
       "Kurtosis:                      58.941   Cond. No.                         29.9\n",
       "==============================================================================\n",
       "\n",
       "Notes:\n",
       "[1] Standard Errors assume that the covariance matrix of the errors is correctly specified.\n",
       "\"\"\""
      ]
     },
     "execution_count": 8,
     "metadata": {},
     "output_type": "execute_result"
    }
   ],
   "source": [
    "import statsmodels.api as sm\n",
    "n = np.log(n)\n",
    "n = sm.add_constant(n)\n",
    "model = sm.OLS(np.log(mktcap), n).fit()\n",
    "model.summary()"
   ]
  },
  {
   "cell_type": "code",
   "execution_count": 9,
   "metadata": {},
   "outputs": [],
   "source": [
    "A = np.exp(model.params[0])"
   ]
  },
  {
   "cell_type": "markdown",
   "metadata": {},
   "source": [
    "We can compute the theoretical wage function and plot it against the realized wage function."
   ]
  },
  {
   "cell_type": "code",
   "execution_count": 10,
   "metadata": {},
   "outputs": [],
   "source": [
    "def wage(x):\n",
    "    return ((A**γ * B * C)/(α * γ - β) * x**(-α * γ + β))"
   ]
  },
  {
   "cell_type": "code",
   "execution_count": 11,
   "metadata": {},
   "outputs": [],
   "source": [
    "W = list(map(wage, range(1,N + 1)))"
   ]
  },
  {
   "cell_type": "code",
   "execution_count": 12,
   "metadata": {},
   "outputs": [
    {
     "name": "stderr",
     "output_type": "stream",
     "text": [
      "C:\\Users\\Alfred\\AppData\\Roaming\\Python\\Python37\\site-packages\\matplotlib\\cbook\\__init__.py:1402: FutureWarning: Support for multi-dimensional indexing (e.g. `obj[:, None]`) is deprecated and will be removed in a future version.  Convert to a numpy array before indexing instead.\n",
      "  ndim = x[:, None].ndim\n",
      "C:\\Users\\Alfred\\AppData\\Roaming\\Python\\Python37\\site-packages\\matplotlib\\axes\\_base.py:278: FutureWarning: Support for multi-dimensional indexing (e.g. `obj[:, None]`) is deprecated and will be removed in a future version.  Convert to a numpy array before indexing instead.\n",
      "  y = y[:, np.newaxis]\n"
     ]
    },
    {
     "data": {
      "text/plain": [
       "[<matplotlib.lines.Line2D at 0x2e37ccadac8>]"
      ]
     },
     "execution_count": 12,
     "metadata": {},
     "output_type": "execute_result"
    },
    {
     "data": {
      "image/png": "[encoded data removed]",
      "text/plain": [
       "<Figure size 432x288 with 1 Axes>"
      ]
     },
     "metadata": {
      "needs_background": "light"
     },
     "output_type": "display_data"
    }
   ],
   "source": [
    "import matplotlib.pyplot as plt\n",
    "plt.plot(range(1, N+1), W)\n",
    "plt.plot(range(1, N+1), comp)"
   ]
  },
  {
   "cell_type": "markdown",
   "metadata": {},
   "source": [
    "# Part 2: quantile regression "
   ]
  },
  {
   "cell_type": "markdown",
   "metadata": {},
   "source": [
    "## References\n",
    "* Koneker and Bassett (1978). `Regression quantile'. Econometrica.\n",
    "* Koenker (2005). Quantile Regression. Cambridge University Press.\n",
    "* Koenker, Roger and Kevin F. Hallock. “Quantile Regression”. Journal of Economic Perspectives, Volume 15, Number 4, Fall 2001, Pages 143–156"
   ]
  },
  {
   "cell_type": "markdown",
   "metadata": {},
   "source": [
    "### What is the right definition of a quantile?\n",
    "\n",
    "\n",
    "In dimension one, the following statements equivalently define quantiles of a\n",
    "distribution $Y\\sim\\nu$:\n",
    "\n",
    "* The quantile map is the (generalized) inverse of the cdf of $\\nu$:\n",
    "$F_{\\nu}^{-1}$.\n",
    "\n",
    "* The quantile map is the nondecreasing map $T$ such that if\n",
    "$U\\sim\\mathcal{U}\\left(  \\left[  0,1\\right]  \\right)  $, then $T\\left(\n",
    "U\\right)  \\sim\\nu$.\n",
    "\n",
    "* The quantile at $t$ $F_{\\nu}^{-1}\\left(  t\\right)  $ is the solution of\n",
    "$\\min_{q}\\mathbb{E}\\left[  \\rho_{t}\\left(  Y-q\\right)  \\right]  $, where\n",
    "$\\rho_{t}\\left(  z\\right)  =tz^{+}+\\left(  1-t\\right)  z^{-}$.\n",
    "\n",
    "* The quantile map is the solution to the Monge problem between\n",
    "distribution $\\mathcal{U}\\left(  \\left[  0,1\\right]  \\right)  $ and $\\nu$\n",
    "relative to cost $\\Phi\\left(  u,y\\right)  =uy$.\n"
   ]
  },
  {
   "cell_type": "markdown",
   "metadata": {},
   "source": [
    "### Quantile: properties\n",
    "\n",
    "\n",
    "\n",
    "Quantiles have a number of enjoyable properties that make them easy to work with.\n",
    "\n",
    "* They fully characterize the distribution $\\nu$.\n",
    "\n",
    "* They allow to construct a representation of $\\nu$: $F_{\\nu}^{-1}\\left(\n",
    "U\\right)  $, $U\\sim\\mu:=\\mathcal{U}\\left(  \\left[  0,1\\right]  \\right)  $ has\n",
    "distribution $\\nu$.\n",
    "\n",
    "* They embed the median ($F_{\\nu}^{-1}\\left(  1/2\\right)  $) and the\n",
    "extreme values ($F_{\\nu}^{-1}\\left(  0\\right)  $ and $F_{\\nu}^{-1}\\left(\n",
    "1\\right)  $).\n",
    "\n",
    "* They allow to provide a construction of distance between distributions:\n",
    "for $p\\geq1$,<br>\n",
    "$\n",
    "\\left(  \\int\\left\\vert F_{\\nu}^{-1}\\left(  t\\right)  -F_{\\nu}^{-1}\\left(\n",
    "t\\right)  \\right\\vert ^{p}dt\\right)  ^{1/p}\n",
    "$<br>\n",
    "is the $p$-Wasserstein distance between $\\mu$ and $\\nu$.\n",
    "\n",
    "* They allow for a natural construction of robust statistics by trimming\n",
    "the interval $\\left[  0,1\\right]  $.\n",
    "\n",
    "* **They lend themselves to a natural notion of regression: quantile\n",
    "regression (Koenker and Bassett, 1978; Koenker 2005).**\n",
    "\n"
   ]
  },
  {
   "cell_type": "markdown",
   "metadata": {},
   "source": [
    "###     Quantile/quantile regression: applications\n",
    "\n",
    "Quantiles are widely used in economics, finance and statistics.\n",
    "\n",
    "* Comonotonicity: $\\left(  F_{\\nu_{1}}^{-1}\\left(  U\\right)  ,F_{\\nu_{2}%\n",
    "}^{-1}\\left(  U\\right)  \\right)  $ for $U\\sim\\mu:=\\mathcal{U}\\left(  \\left[\n",
    "0,1\\right]  \\right)  $ is a comonotone representation of $\\nu_{1}$ and\n",
    "$\\nu_{2}$.\n",
    "\n",
    "* Mesures of risk: Value-at-risk $F_{\\nu}^{-1}\\left(  1-\\alpha\\right)  $;\n",
    "CVaR $\\int_{1-\\alpha}^{1}F_{\\nu}^{-1}\\left(  t\\right)  dt$.\n",
    "\n",
    "* Non-expected utility: Yaari's rank-dependent EU (Choquet integral)\n",
    "$\\int_{0}^{1}F_{\\nu}^{-1}\\left(  t\\right)  w\\left(  t\\right)  dt$.\n",
    "\n",
    "* Demand theory: Matzkin's identication of hedonic models.\n",
    "\n",
    "* Income and inequality: Chamberlain (1994)'s study of the effect of\n",
    "unionization on wages.\n",
    "\n",
    "* Biometrics: growth charts.\n"
   ]
  },
  {
   "cell_type": "markdown",
   "metadata": {},
   "source": [
    "### What is quantile regression?\n",
    "\n",
    "* Quantile regression therefore adopts a parameterization of the\n",
    "conditional quantile which is linear in $Z$. That is<br>\n",
    "$\n",
    "Q_{Y|X}\\left(  \\tau|x\\right)  =x^{\\intercal}\\beta_{\\tau}\n",
    "$<br>\n",
    "(note that one can always augment $x$ with nonlinear functions of $x$, so this\n",
    "parameterization is quite general).\n",
    "\n",
    "* In order to estimate $\\beta_{\\tau}$, first note that<br>\n",
    "$\n",
    "Q_{Y|X}\\left(  \\tau|x\\right)  =\\arg\\min_{q}\\mathbb{E}\\left[  \\rho_{\\tau\n",
    "}\\left(  Y-q\\right)  |X=x\\right]\n",
    "$<br>\n",
    "where $\\rho_{\\tau}\\left(  w\\right)  =\\tau w^{+}+\\left(  1-\\tau\\right)  w^{-}$.\n",
    "\n",
    "* Therefore, if the conditional quantile has the specified form,\n",
    "$\\beta_{u}$ is the solution to<br>\n",
    "$\n",
    "\\min_{\\beta\\in\\mathbb{R}^{k}}\\mathbb{E}\\left[  \\rho_{\\tau}\\left(\n",
    "Y-X^{\\intercal}\\beta\\right)  |X=x\\right]$<br>\n",
    "for each $x$, and therefore it is the solution to the quantile regression\n",
    "problem introduced by Koenker and Bassett (1978)<br>\n",
    "$\n",
    "\\min_{\\beta\\in\\mathbb{R}^{k}}\\mathbb{E}\\left[  \\rho_{\\tau}\\left(\n",
    "Y-X^{\\intercal}\\beta\\right)  \\right]  .\n",
    "$<br>"
   ]
  },
  {
   "cell_type": "markdown",
   "metadata": {},
   "source": [
    "### Quantile regression as linear programming\n",
    "\n",
    "* Koenker and Bassett showed that this problem has a linear programming formulation. Indeed, consider its sample version<br>\n",
    "$\\min_{\\beta\\in\\mathbb{R}^{k}}\\sum_{i=1}^{n}\\rho_{\\tau}\\left(  Y_{i}%\n",
    "-X_{i}^{\\intercal}\\beta\\right)$\n",
    "\n",
    "\n",
    "* Introducing $Y_{i}-X_{i}^{\\intercal}\\beta=P_{i}-N_{i}$ with $P_{i},N_{i}\\geq0$, we have<br>\n",
    "$\n",
    "\\begin{array}\n",
    "~ \\min_{\\substack{\\beta\\in\\mathbb{R}^{k}\\\\P_{i}\\geq0,N_{i}\\geq0}} &  \\sum\n",
    "_{i=1}^{n}\\tau P_{i}+\\left(  1-\\tau\\right)  N_{i}\\\\\n",
    "s.t.~ &  P_{i}-N_{i}=Y_{i}-X_{i}^{\\intercal}\\beta\n",
    "\\end{array}$<br>\n",
    "therefore $\\beta$ can be obtained by simple linear programming."
   ]
  },
  {
   "cell_type": "markdown",
   "metadata": {},
   "source": [
    "Let's import the libraries we shall need."
   ]
  },
  {
   "cell_type": "code",
   "execution_count": 13,
   "metadata": {},
   "outputs": [],
   "source": [
    "import gurobipy as grb\n",
    "import scipy.sparse as spr"
   ]
  },
  {
   "cell_type": "markdown",
   "metadata": {},
   "source": [
    "## Loading the data\n",
    "\n",
    "We shall use a historical dataset by Engle on food expenditures as a function of the household's income."
   ]
  },
  {
   "cell_type": "code",
   "execution_count": 14,
   "metadata": {},
   "outputs": [
    {
     "data": {
      "text/html": [
       "<div>\n",
       "<style scoped>\n",
       "    .dataframe tbody tr th:only-of-type {\n",
       "        vertical-align: middle;\n",
       "    }\n",
       "\n",
       "    .dataframe tbody tr th {\n",
       "        vertical-align: top;\n",
       "    }\n",
       "\n",
       "    .dataframe thead th {\n",
       "        text-align: right;\n",
       "    }\n",
       "</style>\n",
       "<table border=\"1\" class=\"dataframe\">\n",
       "  <thead>\n",
       "    <tr style=\"text-align: right;\">\n",
       "      <th></th>\n",
       "      <th>income</th>\n",
       "      <th>food</th>\n",
       "      <th>clothing</th>\n",
       "      <th>housing</th>\n",
       "      <th>heating/lightening</th>\n",
       "      <th>tools</th>\n",
       "      <th>Education</th>\n",
       "      <th>Public safety</th>\n",
       "      <th>health</th>\n",
       "      <th>Services</th>\n",
       "    </tr>\n",
       "  </thead>\n",
       "  <tbody>\n",
       "    <tr>\n",
       "      <th>0</th>\n",
       "      <td>835.94</td>\n",
       "      <td>576.28</td>\n",
       "      <td>129.34</td>\n",
       "      <td>78.32</td>\n",
       "      <td>46.80</td>\n",
       "      <td>0.0</td>\n",
       "      <td>0.0</td>\n",
       "      <td>0.0</td>\n",
       "      <td>5.2</td>\n",
       "      <td>NaN</td>\n",
       "    </tr>\n",
       "    <tr>\n",
       "      <th>1</th>\n",
       "      <td>873.44</td>\n",
       "      <td>631.80</td>\n",
       "      <td>83.00</td>\n",
       "      <td>79.80</td>\n",
       "      <td>73.84</td>\n",
       "      <td>0.0</td>\n",
       "      <td>5.0</td>\n",
       "      <td>0.0</td>\n",
       "      <td>0.0</td>\n",
       "      <td>NaN</td>\n",
       "    </tr>\n",
       "    <tr>\n",
       "      <th>2</th>\n",
       "      <td>951.44</td>\n",
       "      <td>608.64</td>\n",
       "      <td>134.00</td>\n",
       "      <td>108.00</td>\n",
       "      <td>78.00</td>\n",
       "      <td>0.0</td>\n",
       "      <td>5.0</td>\n",
       "      <td>0.0</td>\n",
       "      <td>17.8</td>\n",
       "      <td>NaN</td>\n",
       "    </tr>\n",
       "    <tr>\n",
       "      <th>3</th>\n",
       "      <td>473.00</td>\n",
       "      <td>301.00</td>\n",
       "      <td>40.00</td>\n",
       "      <td>76.00</td>\n",
       "      <td>46.00</td>\n",
       "      <td>0.0</td>\n",
       "      <td>0.0</td>\n",
       "      <td>2.0</td>\n",
       "      <td>8.0</td>\n",
       "      <td>NaN</td>\n",
       "    </tr>\n",
       "    <tr>\n",
       "      <th>4</th>\n",
       "      <td>601.00</td>\n",
       "      <td>378.00</td>\n",
       "      <td>65.00</td>\n",
       "      <td>84.00</td>\n",
       "      <td>50.00</td>\n",
       "      <td>0.0</td>\n",
       "      <td>0.0</td>\n",
       "      <td>6.0</td>\n",
       "      <td>18.0</td>\n",
       "      <td>NaN</td>\n",
       "    </tr>\n",
       "  </tbody>\n",
       "</table>\n",
       "</div>"
      ],
      "text/plain": [
       "   income    food  clothing  housing  heating/lightening  tools  Education  \\\n",
       "0  835.94  576.28    129.34    78.32               46.80    0.0        0.0   \n",
       "1  873.44  631.80     83.00    79.80               73.84    0.0        5.0   \n",
       "2  951.44  608.64    134.00   108.00               78.00    0.0        5.0   \n",
       "3  473.00  301.00     40.00    76.00               46.00    0.0        0.0   \n",
       "4  601.00  378.00     65.00    84.00               50.00    0.0        0.0   \n",
       "\n",
       "   Public safety  health  Services  \n",
       "0            0.0     5.2       NaN  \n",
       "1            0.0     0.0       NaN  \n",
       "2            0.0    17.8       NaN  \n",
       "3            2.0     8.0       NaN  \n",
       "4            6.0    18.0       NaN  "
      ]
     },
     "execution_count": 14,
     "metadata": {},
     "output_type": "execute_result"
    }
   ],
   "source": [
    "engle_path = 'https://raw.githubusercontent.com/alfredgalichon/VQR/master/engle-data/'\n",
    "engle_data = pd.read_csv(engle_path+ 'engel.csv')\n",
    "\n",
    "engle_data.head()"
   ]
  },
  {
   "cell_type": "code",
   "execution_count": 15,
   "metadata": {},
   "outputs": [],
   "source": [
    "income = np.array(engle_data['income'])\n",
    "food = np.array(engle_data['food'])\n",
    "housing = np.array(engle_data['housing'])\n",
    "nbi=len(income)\n",
    "X = np.array([np.ones(nbi),income]).T\n",
    "#Y = np.array([food,housing]).T\n",
    "_,nbk = X.shape"
   ]
  },
  {
   "cell_type": "code",
   "execution_count": 16,
   "metadata": {},
   "outputs": [
    {
     "name": "stdout",
     "output_type": "stream",
     "text": [
      "Using license file C:\\Users\\Alfred\\gurobi.lic\n",
      "Academic license - for non-commercial use only\n",
      "Gurobi Optimizer version 9.0.0 build v9.0.0rc2 (win64)\n",
      "Optimize a model with 235 rows, 472 columns and 940 nonzeros\n",
      "Model fingerprint: 0xef2cadfa\n",
      "Coefficient statistics:\n",
      "  Matrix range     [1e+00, 5e+03]\n",
      "  Objective range  [5e-01, 5e-01]\n",
      "  Bounds range     [0e+00, 0e+00]\n",
      "  RHS range        [2e+02, 2e+03]\n",
      "Presolve time: 0.01s\n",
      "Presolved: 235 rows, 472 columns, 940 nonzeros\n",
      "\n",
      "Iteration    Objective       Primal Inf.    Dual Inf.      Time\n",
      "       0      handle free variables                          0s\n",
      "     238    8.7803316e+03   0.000000e+00   0.000000e+00      0s\n",
      "\n",
      "Solved in 238 iterations and 0.03 seconds\n",
      "Optimal objective  8.780331590e+03\n"
     ]
    },
    {
     "data": {
      "text/plain": [
       "[81.48614818083601, 0.560174688436782]"
      ]
     },
     "execution_count": 16,
     "metadata": {},
     "output_type": "execute_result"
    }
   ],
   "source": [
    "qr_lp=grb.Model()\n",
    "τ = 0.5\n",
    "P = qr_lp.addMVar(shape=nbi, name=\"P\")\n",
    "N = qr_lp.addMVar(shape=nbi, name=\"N\")\n",
    "β = qr_lp.addMVar(shape=nbk, name=\"β\", lb=-grb.GRB.INFINITY )\n",
    "qr_lp.setObjective(τ * np.ones(nbi) @ P + (1-τ) * np.ones(nbi) @ N, grb.GRB.MINIMIZE)\n",
    "qr_lp.addConstr(P - N + X @ β == food)\n",
    "qr_lp.optimize()\n",
    "\n",
    "βhat = qr_lp.getAttr('x')[-nbk:]\n",
    "βhat"
   ]
  },
  {
   "cell_type": "markdown",
   "metadata": {},
   "source": [
    "We can recover the result using the `quantreg` package of `statsmodel` library:"
   ]
  },
  {
   "cell_type": "code",
   "execution_count": 17,
   "metadata": {},
   "outputs": [],
   "source": [
    "import statsmodels.api as sm\n",
    "import statsmodels.formula.api as smf\n",
    "import matplotlib.pyplot as plt"
   ]
  },
  {
   "cell_type": "markdown",
   "metadata": {},
   "source": [
    "Fit using:"
   ]
  },
  {
   "cell_type": "code",
   "execution_count": 18,
   "metadata": {},
   "outputs": [
    {
     "name": "stdout",
     "output_type": "stream",
     "text": [
      "                         QuantReg Regression Results                          \n",
      "==============================================================================\n",
      "Dep. Variable:                   food   Pseudo R-squared:               0.6205\n",
      "Model:                       QuantReg   Bandwidth:                       64.51\n",
      "Method:                 Least Squares   Sparsity:                        209.3\n",
      "Date:                Fri, 03 Sep 2021   No. Observations:                  235\n",
      "Time:                        11:09:42   Df Residuals:                      233\n",
      "                                        Df Model:                            1\n",
      "==============================================================================\n",
      "                 coef    std err          t      P>|t|      [0.025      0.975]\n",
      "------------------------------------------------------------------------------\n",
      "Intercept     81.4862     14.635      5.568      0.000      52.652     110.321\n",
      "income         0.5602      0.013     42.513      0.000       0.534       0.586\n",
      "==============================================================================\n",
      "\n",
      "The condition number is large, 2.38e+03. This might indicate that there are\n",
      "strong multicollinearity or other numerical problems.\n"
     ]
    }
   ],
   "source": [
    "model = smf.quantreg('food ~ income', engle_data)\n",
    "print(model.fit(q=τ).summary())"
   ]
  },
  {
   "cell_type": "code",
   "execution_count": 19,
   "metadata": {},
   "outputs": [
    {
     "name": "stdout",
     "output_type": "stream",
     "text": [
      "      q           a         b        lb        ub\n",
      "0  0.05  124.879055  0.343360  0.268630  0.418090\n",
      "1  0.15  111.687464  0.423713  0.382779  0.464648\n",
      "2  0.25   95.473330  0.474120  0.439914  0.508325\n",
      "3  0.35  105.834881  0.488907  0.457761  0.520053\n",
      "4  0.45   81.087627  0.552422  0.525015  0.579830\n",
      "5  0.55   89.655957  0.565608  0.540962  0.590253\n",
      "6  0.65   74.032621  0.604577  0.582173  0.626980\n",
      "7  0.75   62.384896  0.644028  0.622428  0.665628\n",
      "8  0.85   52.275717  0.677601  0.657384  0.697817\n",
      "9  0.95   64.103547  0.709066  0.687835  0.730297\n",
      "{'a': 147.48419855663207, 'b': 0.48517267413692017, 'lb': 0.4568679428585471, 'ub': 0.5134774054152932}\n"
     ]
    }
   ],
   "source": [
    "# code taken from statsmodel documentation: \n",
    "# https://www.statsmodels.org/dev/examples/notebooks/generated/quantile_regression.html\n",
    "\n",
    "quantiles = np.arange(0.05, 0.96, 0.1)\n",
    "\n",
    "\n",
    "def fit_model(q):\n",
    "    res = model.fit(q=q)\n",
    "    return [q, res.params[\"Intercept\"], res.params[\"income\"]] + res.conf_int().loc[\n",
    "        \"income\"\n",
    "    ].tolist()\n",
    "\n",
    "\n",
    "models = [fit_model(x) for x in quantiles]\n",
    "models = pd.DataFrame(models, columns=[\"q\", \"a\", \"b\", \"lb\", \"ub\"])\n",
    "\n",
    "ols = smf.ols(\"food ~ income\", engle_data).fit()\n",
    "ols_ci = ols.conf_int().loc[\"income\"].tolist()\n",
    "ols = dict(\n",
    "    a=ols.params[\"Intercept\"], b=ols.params[\"income\"], lb=ols_ci[0], ub=ols_ci[1]\n",
    ")\n",
    "\n",
    "print(models)\n",
    "print(ols)"
   ]
  },
  {
   "cell_type": "code",
   "execution_count": 20,
   "metadata": {},
   "outputs": [
    {
     "data": {
      "text/plain": [
       "Text(0, 0.5, 'Food expenditure')"
      ]
     },
     "execution_count": 20,
     "metadata": {},
     "output_type": "execute_result"
    },
    {
     "data": {
      "image/png": "[encoded data removed]",
      "text/plain": [
       "<Figure size 576x432 with 1 Axes>"
      ]
     },
     "metadata": {
      "needs_background": "light"
     },
     "output_type": "display_data"
    }
   ],
   "source": [
    "# code taken from statsmodel documentation: \n",
    "# https://www.statsmodels.org/dev/examples/notebooks/generated/quantile_regression.html\n",
    "\n",
    "x = np.arange(engle_data.income.min(), engle_data.income.max(), 50)\n",
    "get_y = lambda a, b: a + b * x\n",
    "\n",
    "fig, ax = plt.subplots(figsize=(8, 6))\n",
    "\n",
    "for i in range(models.shape[0]):\n",
    "    y = get_y(models.a[i], models.b[i])\n",
    "    ax.plot(x, y, linestyle=\"dotted\", color=\"grey\")\n",
    "\n",
    "y = get_y(ols[\"a\"], ols[\"b\"])\n",
    "\n",
    "ax.plot(x, y, color=\"red\", label=\"OLS\")\n",
    "ax.scatter(engle_data.income, engle_data.food, alpha=0.2)\n",
    "ax.set_xlim((240, 3000))\n",
    "ax.set_ylim((240, 2000))\n",
    "legend = ax.legend()\n",
    "ax.set_xlabel(\"Income\", fontsize=16)\n",
    "ax.set_ylabel(\"Food expenditure\", fontsize=16)"
   ]
  },
  {
   "cell_type": "markdown",
   "metadata": {},
   "source": [
    "# Part 3: vector quantile regression\n",
    "\n",
    "## References\n",
    "* Ekeland, Galichon and Henry (2012). Comonotonic measures of multivariate risks. *Mathematical Finance*.\n",
    "* Carlier, Galichon and Chernozhukov (2016). Vector quantile regression: an optimal transport approach. *Annals of Statistics*.\n",
    "* Carlier, Galichon and Chernozhukov (2017). Vector quantile regression beyond correct specification. *Journal of Multivariate Analysis*.\n",
    "* Chernozhukov, Galichon, Hallin and Henry (2017). Monge-Kantorovich Depth, Quantiles, Ranks and Signs. *Annals of Statistics*.\n",
    "* Carlier, Chernozhukov, De Bie, and G (2021). Vector quantile regression and optimal transport, from theory to numerics. Forthcoming, *Empirical Economics*."
   ]
  },
  {
   "cell_type": "markdown",
   "metadata": {},
   "source": [
    "### Classical quantile regression and duality\n",
    "\n",
    "\n",
    "* Recall<br>\n",
    "$\\begin{array}\n",
    "\\min_{P\\geq0,N\\geq0,\\beta} &  \\mathbb{E}\\left[  \\tau P+\\left(  1-\\tau\\right)\n",
    "N\\right]  \\\\\n",
    "s.t.~ &  P-N=Y-X^{\\top}\\beta~\\left[  V\\right]\n",
    "\\end{array}$<br>\n",
    "where<br>\n",
    "$P=\\left(  Y-X^{\\top}\\beta\\right)  ^{+}$ and $N=\\left(  Y-X^{\\top}\n",
    "\\beta\\right)  ^{-}$,<br>\n",
    "or equivalently,<br>\n",
    "$\\begin{array}\n",
    "\\min_{P\\geq0,N\\geq0,\\beta} &  \\mathbb{E}\\left[  P+\\left(  1-\\tau\\right)\n",
    "X^{\\top}\\beta\\right]  \\\\\n",
    "s.t.~ &  P-N=Y-X^{\\top}\\beta~\\left[  V\\right]\n",
    "\\end{array}$<br>\n",
    "which we call the *dual* problem.\n",
    "\n",
    "* The corresponding primal problem is<br>\n",
    "$\\begin{array}\n",
    "&  \\max_{V}\\mathbb{E}\\left[  YV\\right]  \\\\\n",
    "s.t.~ &  V\\geq0~\\left[  N\\geq0\\right]  \\\\\n",
    "&  V\\leq1~\\left[  P\\geq0\\right]  \\\\\n",
    "&  \\mathbb{E}\\left[  VX\\right]  =\\left(  1-\\tau\\right)  \\mathbb{E}\\left[\n",
    "X\\right]  ~\\left[  \\beta\\right]\n",
    "\\end{array}$<br>\n",
    "\n"
   ]
  },
  {
   "cell_type": "markdown",
   "metadata": {},
   "source": [
    "### Complementary slackness\n",
    "\n",
    "* Let $V\\left(  \\tau\\right)  $ and $\\beta\\left(  \\tau\\right)  $ be\n",
    "solutions to the above program. Complementary slackness yields<br>\n",
    "$\\left\\{\\begin{array}\n",
    "Y-X^{\\top}\\beta\\left(  \\tau\\right)   &  <0\\implies V\\left(  \\tau\\right)  =0\\\\\n",
    "Y-X^{\\top}\\beta\\left(  \\tau\\right)   &  >0\\implies V\\left(  \\tau\\right)  =1\n",
    "\\end{array}\\right.$<br>\n",
    "therefore<br>\n",
    "$1\\left\\{  Y>X^{\\top}\\beta\\left(  \\tau\\right)  \\right\\}  \\leq V\\left(\n",
    "\\tau\\right)  \\leq1\\left\\{  Y\\geq X^{\\top}\\beta\\left(  \\tau\\right)  \\right\\}.$\n",
    "\n",
    "* Assume $\\left(  X,Y\\right)  $ has a continuous distribution,. Then for\n",
    "any $\\beta$, $\\Pr\\left(  Y-X^{\\top}\\beta=0\\right)  =0$, and therefore one has\n",
    "almost surely<br>\n",
    "$V\\left(  \\tau\\right)  =1\\left\\{  Y\\geq X^{\\top}\\beta\\left(  \\tau\\right)\n",
    "\\right\\}.$\n"
   ]
  },
  {
   "cell_type": "markdown",
   "metadata": {},
   "source": [
    "### Quantile curve regression\n",
    "\n",
    "* Consider now solving the problems above for all values of $\\tau$ *all at once*. We can write:<br>\n",
    "$\\max_{V\\left(  .\\right)  }\\int_{0}^{1}\\mathbb{E}\\left[  YV\\left(\n",
    "\\tau\\right)  \\right]  d\\tau$<br>\n",
    "s.t.<br>\n",
    "$V\\left(  \\tau\\right)  \\geq0~\\left[  N\\left(  \\tau\\right)\n",
    "\\geq0\\right]$<br>\n",
    "$V\\left(  \\tau\\right)  \\leq1~\\left[  P\\left(  \\tau\\right)  \\geq0\\right] $<br>\n",
    "$ \\mathbb{E}\\left[  V\\left(  \\tau\\right)  X\\right]  =\\left(  1-\\tau\\right)\n",
    "\\mathbb{E}\\left[  X\\right]  ~\\left[  \\beta\\left(  \\tau\\right)  \\right]$<br>\n",
    "\n",
    "\n",
    "* The problem has dual<br>\n",
    "$\\begin{array}\n",
    "~\\min_{P\\geq0,N\\geq0,\\beta}  &  \\int_{0}^{1}\\mathbb{E}\\left[  P\\left(\n",
    "\\tau\\right)  +\\left(  1-\\tau\\right)  X^{\\top}\\beta\\left(  \\tau\\right)\n",
    "\\right]  d\\tau\\\\\n",
    "s.t.~  &  P\\left(  \\tau\\right)  -N\\left(  \\tau\\right)  =Y-X^{\\top}\\beta\\left(\n",
    "\\tau\\right)  ~\\left[  V\\left(  \\tau\\right)  \\right]\n",
    "\\end{array}$\n",
    "\n",
    "\n",
    "* The solution to these problems are the same as the solutions to each of the previous problem -- the contraints don't interfere."
   ]
  },
  {
   "cell_type": "markdown",
   "metadata": {},
   "source": [
    "### Quantile curve regression under dual monotonicity constraint\n",
    "\n",
    "* Koenker and Ng (2005) consider imposing the monotonicity constraint of\n",
    "the estimated quantile curves. Thus, they impose a constraint on the dual,\n",
    "namely:<br> $X^{\\top}\\beta\\left(  \\tau\\right)  \\geq X^{\\top}\\beta\\left(\n",
    "\\tau^{\\prime}\\right)  $ for $\\tau\\geq\\tau^{\\prime}$,<br>\n",
    "that is<br>\n",
    "$\\begin{array}\n",
    "~\\min_{P\\geq0,N\\geq0,\\beta}  &  \\int_{0}^{1}\\mathbb{E}\\left[  P\\left(\n",
    "\\tau\\right)  +\\left(  1-\\tau\\right)  X^{\\top}\\beta\\left(  \\tau\\right)\n",
    "\\right]  d\\tau\\\\\n",
    "s.t.~  &  P\\left(  \\tau\\right)  -N\\left(  \\tau\\right)  =Y-X^{\\top}\\beta\\left(\n",
    "\\tau\\right)  ~\\left[  V\\left(  \\tau\\right)  \\right] \\\\\n",
    "&  X^{\\top}\\beta\\left(  \\tau\\right)  \\geq X^{\\top}\\beta\\left(  \\tau^{\\prime\n",
    "}\\right)  ,~\\tau\\geq\\tau^{\\prime}%\n",
    "\\end{array}$\n",
    "\n",
    "* This is the most natural approach to solve the non-monotonicity problem. However, it does not leads to a simple duality."
   ]
  },
  {
   "cell_type": "markdown",
   "metadata": {},
   "source": [
    "### Quantile curve regression under primal monotonicity constraint\n",
    "\n",
    "* By contrast, [CCG]'s vector quantile regression approach imposes the constraint that the primal variable<br>\n",
    "$\\tau\\rightarrow V\\left(  \\tau\\right)  $<br> \n",
    "should be nonincreasing. This is justified by the fact that<br> \n",
    "$V\\left(  \\tau\\right)  =1\\left\\{  Y\\geq X^{\\top}\\beta\\left(  \\tau\\right)  \\right\\}  $,<br>\n",
    "so<br> \n",
    "$ X^{\\top} \\beta\\left(  \\tau\\right) \\text{ nondecreasing in } \\tau \\implies V\\left(  \\tau\\right)  $ nonincreasing.\n",
    "\n",
    "* Therefore, we let consider the program\n",
    "\\begin{align*}\n",
    "&  \\max_{V\\left(  \\tau\\right)  }\\int_{0}^{1}\\mathbb{E}\\left[  YV\\left(\n",
    "\\tau\\right)  \\right]  d\\tau\\\\\n",
    "s.t.~  &  V\\left(  \\tau\\right)  \\geq0~\\left[  N\\left(  \\tau\\right)\n",
    "\\geq0\\right] \\\\\n",
    "&  V\\left(  \\tau\\right)  \\leq1~\\left[  P\\left(  \\tau\\right)  \\geq0\\right] \\\\\n",
    "&  \\mathbb{E}\\left[  V\\left(  \\tau\\right)  X\\right]  =\\left(  1-\\tau\\right)\n",
    "\\mathbb{E}\\left[  X\\right]  ~\\left[  \\beta\\left(  \\tau\\right)  \\right] \\\\\n",
    "&  V\\left(  \\tau\\right)  \\leq V\\left(  \\tau^{\\prime}\\right)  ,~\\tau\\geq\n",
    "\\tau^{\\prime}%\n",
    "\\end{align*}"
   ]
  },
  {
   "cell_type": "markdown",
   "metadata": {},
   "source": [
    "### Primal monotonicity constraint, sample version\n",
    "\n",
    "* Consider $\\tau_{1}=0<...<\\tau_{T}\\leq1$ and let $\\bar{x}$ be the\n",
    "$1\\times K$ row vector whose $k$-th entry is $\\mathbb{E}\\left[  X_{k}\\right]\n",
    "$.<br>One has\n",
    "\\begin{align*}\n",
    "&  \\max_{V_{ti}\\geq0}\\sum_{\\substack{1\\leq i\\leq I\\\\1\\leq t\\leq T}}V_{ti}%\n",
    "Y_{i}\\\\\n",
    "&  V_{ti}\\leq1\\\\\n",
    "&  \\frac{1}{I}\\sum_{1\\leq i\\leq I}V_{ti}X_{ik}=\\left(  1-\\tau_{t}\\right)\n",
    "\\bar{x}_{k}\\\\\n",
    "&  V_{\\left(  t+1\\right)  i}\\leq V_{ti}\n",
    "\\end{align*}\n",
    "\n",
    "\n",
    "* As $\\tau_{1}=0$, one has necessarly $V_{1i}=1$ and the program becomes\n",
    "\\begin{align*}\n",
    "&  \\max_{V_{ti}}\\sum_{\\substack{1\\leq i\\leq I\\\\1\\leq t\\leq T}}V_{ti}Y_{i}\\\\\n",
    "&  V_{1i}=1\\\\\n",
    "&  \\frac{1}{I}\\sum_{1\\leq i\\leq I}V_{ti}X_{ik}=\\left(  1-\\tau_{t}\\right)\n",
    "\\bar{x}_{k}\\\\\n",
    "&  V_{t1}\\geq V_{t2}\\geq...\\geq V_{t\\left(  m-1\\right)  }\\geq V_{T,i}\\geq0.\n",
    "\\end{align*}"
   ]
  },
  {
   "cell_type": "markdown",
   "metadata": {},
   "source": [
    "### Matrix notations\n",
    "\n",
    "* Let $\\tau$ be the $T\\times1$ row matrix with entries $\\tau_{k}$.\n",
    "\n",
    "* Let $D$ be a $T\\times T$ matrix defined as\n",
    "$$\n",
    "D=\n",
    "\\begin{pmatrix}\n",
    "1 & 0 & 0 & \\cdots & 0 & 0\\\\\n",
    "-1 & 1 & 0 & \\ddots & \\vdots & \\vdots\\\\\n",
    "0 & -1 & 1 & \\ddots & 0 & 0\\\\\n",
    "\\vdots & \\ddots & \\ddots & \\ddots & 0 & 0\\\\\n",
    "\\vdots &  & 0 & -1 & 1 & 0\\\\\n",
    "0 &  & 0 & 0 & -1 & 1\n",
    "\\end{pmatrix}\n",
    "$$\n",
    "we have $V^{\\top}D\\geq0$ if and only if $$V_{1i}\\geq V_{2i}\\geq...\\geq\n",
    "V_{\\left(  T-1\\right)  i}\\geq V_{Ti}\\geq0.$$\n",
    "\n",
    "* One can write\n",
    "\\begin{align*}\n",
    "&  \\max_{V}1_{I}^{\\top}VY\\\\\n",
    "&  \\frac{1}{I}VX=\\left(  1_{T}-\\tau\\right)  \\bar{x}\\\\\n",
    "&  V^{\\top}D1_{T}=1_{I}\\\\\n",
    "&  V^{\\top}D\\geq0\n",
    "\\end{align*}\n"
   ]
  },
  {
   "cell_type": "markdown",
   "metadata": {},
   "source": [
    "\n",
    "* Thus, setting<br> $\\pi=D^{\\top}V/I$, and $U=D^{-1}1_{I}$, $\\mu=D^{\\top}\\left(\n",
    "1_{T}-\\tau\\right)  $, and $p=1_{I}/I$,<br>one has<br>\n",
    "\\begin{align*}\n",
    "&  \\max_{\\pi}U^{\\top}\\pi Y\\\\\n",
    "&  \\pi X=\\mu\\bar{x}\\\\\n",
    "&  \\pi^{\\top}1_{T}=p\\\\\n",
    "&  \\pi\\geq0\n",
    "\\end{align*}\n",
    "\n",
    "\n",
    "* Assume that the first entry of $X$ is one. One has that if $\\pi$ satisfies the constraints, then\n",
    "$$\\sum_{i=1}^{I}\\pi_{ti}=\\mu_{t}\\text{ and }\\sum_{t=1}^{T}\\pi_{ti}=p_{i}$$\n",
    "thus $\\pi$ can be thought of as a joint probability on $\\tau$ and $X$.\n",
    "\n",
    "* One has\n",
    "\\begin{align*}\n",
    "&  \\max_{\\pi\\geq0}\\sum_{\\substack{1\\leq t\\leq T\\\\1\\leq i\\leq I}}\\pi_{ti}\n",
    "U_{t}Y_{i}\\\\\n",
    "&  \\sum_{1\\leq i\\leq I}\\pi_{ti}X_{ik}=\\mu_{t}\\bar{x}_{k}\\\\\n",
    "&  \\sum_{1\\leq t\\leq T}\\pi_{ti}=p_{i}%\n",
    "\\end{align*}"
   ]
  },
  {
   "cell_type": "markdown",
   "metadata": {},
   "source": [
    "### Computation\n",
    "\n",
    "* Recall the problem to compute\n",
    "\\begin{align*}\n",
    "&  \\max_{\\pi\\geq0}U^{\\top}\\pi Y\\\\\n",
    "&  \\pi X=\\mu\\bar{x}\\\\\n",
    "&  \\pi^{\\top}1_{T}=p\n",
    "\\end{align*}\n",
    "which we sill vectorize using $vec\\left(  A\\pi B\\right)  =\\left(  A \\otimes B^{\\top\n",
    "}\\right)  vec\\left(  \\pi\\right)  $ so that the constraint becomes\n",
    "$$\n",
    "\\begin{pmatrix}\n",
    " I_{T}\\otimes X^{\\top}\\\\\n",
    "1_{T}^{\\top} \\otimes I_{I}\n",
    "\\end{pmatrix}\n",
    "vec\\left(  \\pi\\right)  =\\binom{vec\\left(  \\mu\\bar{x}\\right)  }{p}%\n",
    "$$\n",
    "\n",
    "\n",
    "* There are $IT$ primal variables and $KT+I$ constraints.\n",
    "\n",
    "* Computation is done with a linear programming solver like Gurobi. Large-scale linear programming solvers make use of sparsity of constraint matrix. However, if dimension of $Y$ is larger, $T$ will need to be large."
   ]
  },
  {
   "cell_type": "code",
   "execution_count": 21,
   "metadata": {},
   "outputs": [
    {
     "data": {
      "text/plain": [
       "array([81.48614818,  0.56017469])"
      ]
     },
     "execution_count": 21,
     "metadata": {},
     "output_type": "execute_result"
    }
   ],
   "source": [
    "Y = food.reshape((-1,1))\n",
    "xbar = X.mean(axis = 0).reshape((1,-1))\n",
    "nbt=21\n",
    "τ_t_1 = np.linspace(0,1,nbt).reshape((-1,1))\n",
    "\n",
    "D_t_t = spr.diags([1, -1], [ 0, -1], shape=(nbt, nbt))\n",
    "\n",
    "U_t_1 = np.linalg.inv(D_t_t.toarray()) @ np.ones( (nbt,1)) \n",
    "μ_t_1 = D_t_t.T @ (np.ones((nbt,1)) - τ_t_1)\n",
    "\n",
    "A1 = spr.kron(spr.identity(nbt),X.T)\n",
    "A2 = spr.kron(np.array(np.repeat(1,nbt)),spr.identity(nbi))\n",
    "A = spr.vstack([A1, A2])\n",
    "rhs = np.concatenate( [(μ_t_1 * xbar).flatten(), np.ones(nbi)/nbi]) \n",
    "obj = np.kron(U_t_1, Y).T\n",
    "vqr_lp=grb.Model()\n",
    "pi = vqr_lp.addMVar(shape=nbi*nbt, name=\"pi\")\n",
    "vqr_lp.setParam( 'OutputFlag', False )\n",
    "vqr_lp.setObjective( obj @ pi, grb.GRB.MAXIMIZE)\n",
    "vqr_lp.addConstr(A @ pi == rhs)\n",
    "vqr_lp.optimize()\n",
    "\n",
    "ϕ_t_k = np.array(vqr_lp.getAttr('pi'))[0:(nbt*nbk)].reshape((nbt,nbk))\n",
    "\n",
    "βvqr_t_k = D_t_t.toarray() @ ϕ_t_k\n",
    "\n",
    "βvqr_t_k[10,:]"
   ]
  },
  {
   "cell_type": "markdown",
   "metadata": {},
   "source": [
    "## Vector quantile regression in the continuous case\n",
    "\n",
    "* This rewrites as a *Vector quantile regression* (yet for now in the scalar case), introduced in [CCG16]\n",
    "\\begin{align*}\n",
    "\\max_{\\pi}  &  \\mathbb{E}_{\\pi}\\left[  UY\\right] \\\\\n",
    "s.t.  &  U\\sim\\mu\\\\\n",
    "&  \\left(  X,Y\\right)  \\sim P\\\\\n",
    "&  \\mathbb{E}\\left[  X|U\\right]  =\\mathbb{E}\\left[  X\\right]\n",
    "\\end{align*}\n",
    "\n",
    "\n",
    "* This is an extension of the optimal transport problem of Monge-Kantorovich. As a matter of fact, when $X$ is restricted to the constant, this is *exactly* an optimal transport problem."
   ]
  },
  {
   "cell_type": "markdown",
   "metadata": {},
   "source": [
    "### Vector quantile regression, primal problem\n",
    "\n",
    "* Recall our previous problem\n",
    "\\begin{align*}\n",
    "\\max_{\\pi}  &  \\mathbb{E}_{\\pi}\\left[  UY\\right] \\\\\n",
    "s.t.  &  U\\sim\\mu\\\\\n",
    "&  \\left(  X,Y\\right)  \\sim P\\\\\n",
    "&  \\mathbb{E}\\left[  X|U\\right]  \\sim\\mathbb{E}\\left[  X\\right]\n",
    "\\end{align*}\n",
    "and replace mean-independence by independence; one has\n",
    "\\begin{align*}\n",
    "\\max_{\\pi}  &  \\mathbb{E}_{\\pi}\\left[  UY\\right] \\\\\n",
    "s.t.  &  U\\sim\\mu\\\\\n",
    "&  \\left(  X,Y\\right)  \\sim P\\\\\n",
    "&  X {\\perp\\!\\!\\!\\perp}U\n",
    "\\end{align*}\n",
    "\n",
    "\n",
    "* The solution to the latter problem is simply<br>\n",
    "$U=F_{Y|X}\\left(  Y|X\\right)$<br>\n",
    "which yields the nonparametric conditional quantile representation<br>\n",
    "$Y=F_{Y|X}^{-1}\\left(  U|X\\right).$"
   ]
  },
  {
   "cell_type": "markdown",
   "metadata": {},
   "source": [
    "### Vector quantile regression, dual problem\n",
    "\n",
    "* The dual problem yields\n",
    "\\begin{align*}\n",
    "\\min_{\\psi,b}  &  \\mathbb{E}_{P}\\left[  \\psi\\left(  X,Y\\right)  \\right]\n",
    "+\\bar{x}^{\\top}\\mathbb{E}_{\\mu}\\left[  b\\left(  U\\right)  \\right] \\\\\n",
    "s.t.~  &  \\psi\\left(  x,y\\right)  +x^{\\top}b\\left(  \\tau\\right)  \\geq\\tau\n",
    "y,~\\forall x,y,\\tau\n",
    "\\end{align*}\n",
    "\n",
    "\n",
    "* Optimality of $\\left(  \\psi,b\\right)  $ yields\n",
    "$$\n",
    "\\psi\\left(  x,y\\right)  =\\sup_{\\tau\\in\\left[  0,1\\right]  }\\left\\{  \\tau\n",
    "y-x^{\\top}b\\left(  \\tau\\right)  \\right\\}\n",
    "$$\n",
    "which yields, if $b$ is differentiable,\n",
    "$$\n",
    "Y=X^{\\top}\\beta\\left(  U\\right)\n",
    "$$\n",
    "where $(U,X,Y)$ are the solutions to the primal problem and $\\beta\\left(\n",
    "\\tau\\right)  =b^{\\prime}\\left(  \\tau\\right)  $.\n"
   ]
  },
  {
   "cell_type": "markdown",
   "metadata": {},
   "source": [
    "### Multivariate case\n",
    "\n",
    "* Vector quantile regression yields a natural way to extend classical\n",
    "quantile regression to the case when the dependent variable is multivariate.\n",
    "If $Y$ is valued in $\\mathbb{R}^{d}$, one may take $\\tau$ in $\\mathbb{R}^{d}$,\n",
    "$\\mu=\\mathcal{U}\\left(  \\left[  0,1\\right]  ^{d}\\right)  $. We replace the\n",
    "product $\\tau$ by the scalar product $\\tau^{\\top}\\beta\\left(  U\\right)  $, and\n",
    "the analysis goes unmodified.\n",
    "\n",
    "* We get a nice tensorization of vector quantile regression that way: when\n",
    "the components of $Y$ are independent, the previous propal amounts to running\n",
    "the scalar version component by component."
   ]
  }
 ],
 "metadata": {
  "kernelspec": {
   "display_name": "Python 3 (ipykernel)",
   "language": "python",
   "name": "python3"
  },
  "language_info": {
   "codemirror_mode": {
    "name": "ipython",
    "version": 3
   },
   "file_extension": ".py",
   "mimetype": "text/x-python",
   "name": "python",
   "nbconvert_exporter": "python",
   "pygments_lexer": "ipython3",
   "version": "3.7.9"
  }
 },
 "nbformat": 4,
 "nbformat_minor": 2
}
